{
  "nbformat": 4,
  "nbformat_minor": 0,
  "metadata": {
    "colab": {
      "provenance": [],
      "include_colab_link": true
    },
    "kernelspec": {
      "name": "python3",
      "display_name": "Python 3"
    },
    "language_info": {
      "name": "python"
    }
  },
  "cells": [
    {
      "cell_type": "markdown",
      "metadata": {
        "id": "view-in-github",
        "colab_type": "text"
      },
      "source": [
        "<a href=\"https://colab.research.google.com/github/edduuuu/poo/blob/main/Ejercicios_POO.ipynb\" target=\"_parent\"><img src=\"https://colab.research.google.com/assets/colab-badge.svg\" alt=\"Open In Colab\"/></a>"
      ]
    },
    {
      "cell_type": "markdown",
      "source": [
        "## Ejercicios POO"
      ],
      "metadata": {
        "id": "TgBu7yBbjvVR"
      }
    },
    {
      "cell_type": "markdown",
      "source": [
        ":\n",
        "\n",
        "1.   Describe cuáles son las diferencias entre clases y objetos.\n",
        "r: una clase es una descripcion con diferentes datos y un objeto es lo que conforma una clase\n",
        "2. Describe por qué usamos self como primer argumento en los métodos.\n",
        "r: por que llama a la clase\n",
        "3. ¿Qué es un constructor? ¿Y por qué lo usamos?\n",
        "r: hace que el objeto pueda ser usado\n",
        "4. Describir las diferencias entre los atributos de clase y de instancia.\n",
        "r:atributos de clase: comparten el mismo valor entre todas las instancias\n",
        "instancias: cada isntancia tiene diferentes valores\n",
        "5. La siguiente es una definición de la clase Punto que toma las coordenadas x, y. Agregue un método plot_point que trace la posición del punto.\n",
        "r:\n",
        "6. Documenta y prueba con algunos puntos el siguiente código:\n",
        "r: import matplotlib.pyplot as plt\n",
        "\n",
        "7. Cree una clase para modelar algún objeto del mundo real y cree una nueva clase para heredar de él. Un ejemplo puede ser el siguiente. Deberías usar un ejemplo diferente y usar tantas cosas que aprendimos como sea posible.\n",
        "r: class Carro():\n",
        "    \n",
        "\n",
        "\n",
        "\n",
        "\n",
        "\n"
      ],
      "metadata": {
        "id": "OlqRnXzXhqwb"
      }
    },
    {
      "cell_type": "code",
      "source": [
        "\n",
        "import matplotlib.pyplot as plt\n",
        "class Punto():\n",
        "    def __init__(self, x, y):\n",
        "        self.x = x\n",
        "        self.y = y\n",
        "\n",
        "    def plot(self):\n",
        "        plt.scatter(self.x, self.y, color='red', marker='o')\n",
        "        plt.xlabel('X-axis')\n",
        "        plt.ylabel('Y-axis')\n",
        "        plt.title('Gráfica del punto')\n",
        "        plt.grid(True)\n",
        "        plt.show()"
      ],
      "metadata": {
        "id": "UTyGa3uv5tMZ"
      },
      "execution_count": 23,
      "outputs": []
    },
    {
      "cell_type": "markdown",
      "source": [],
      "metadata": {
        "id": "RpaOiZg_9pbg"
      }
    },
    {
      "cell_type": "code",
      "source": [
        "punto = Punto(1,2)#ponemos coordenadas (1,2)"
      ],
      "metadata": {
        "id": "YuxCrtOe7I4k"
      },
      "execution_count": 24,
      "outputs": []
    },
    {
      "cell_type": "code",
      "source": [
        "punto.plot()"
      ],
      "metadata": {
        "id": "-A4gz8My8YJL",
        "outputId": "4ae80daf-4843-4b44-b81b-e46f11238d77",
        "colab": {
          "base_uri": "https://localhost:8080/",
          "height": 472
        }
      },
      "execution_count": 25,
      "outputs": [
        {
          "output_type": "display_data",
          "data": {
            "text/plain": [
              "<Figure size 640x480 with 1 Axes>"
            ],
            "image/png": "[encoded data removed]"
          },
          "metadata": {}
        }
      ]
    },
    {
      "cell_type": "code",
      "source": [
        "class Genaro():\n",
        "    def __init__(altura, colorpelo, peso):\n",
        "        self.altura = altura\n",
        "        self.colorpelo = colorpelo\n",
        "\n",
        "class coche(Genaro):\n",
        "    def __init__(altura, colorpelo, peso):\n",
        "        super().__init__(altura, colorpelo)\n",
        "        self.arrancar = arrancar\n",
        "\n",
        "    def coche(self, arrancar):\n",
        "        if arrancar == 'arrancar':\n",
        "            print('¡Listo para conducir!')\n",
        "        else:\n",
        "            print('no arranca')\n",
        ""
      ],
      "metadata": {
        "id": "FISFHdoh9vUI"
      },
      "execution_count": 26,
      "outputs": []
    }
  ]
}