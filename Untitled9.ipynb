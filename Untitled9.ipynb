{
  "nbformat": 4,
  "nbformat_minor": 0,
  "metadata": {
    "colab": {
      "provenance": [],
      "authorship_tag": "ABX9TyOz4THObJ/TP7gtY/0v1Sj1",
      "include_colab_link": true
    },
    "kernelspec": {
      "name": "python3",
      "display_name": "Python 3"
    },
    "language_info": {
      "name": "python"
    }
  },
  "cells": [
    {
      "cell_type": "markdown",
      "metadata": {
        "id": "view-in-github",
        "colab_type": "text"
      },
      "source": [
        "<a href=\"https://colab.research.google.com/github/edduuuu/poo/blob/main/Untitled9.ipynb\" target=\"_parent\"><img src=\"https://colab.research.google.com/assets/colab-badge.svg\" alt=\"Open In Colab\"/></a>"
      ]
    },
    {
      "cell_type": "code",
      "execution_count": null,
      "metadata": {
        "id": "Kpz_tgLzI5LC"
      },
      "outputs": [],
      "source": []
    },
    {
      "cell_type": "code",
      "source": [
        "\n",
        "import numpy as np\n",
        "\n",
        "# Definir función para calcular el área de un triángulo equilátero\n",
        "def calcular_area(lado):\n",
        "    return (np.sqrt(3) / 4) * lado**2\n",
        "\n",
        "# Definir función para calcular el perímetro de un triángulo equilátero\n",
        "def calcular_perimetro(lado):\n",
        "    return 3 * lado\n",
        "\n",
        "# Solicitar al usuario que ingrese la longitud del lado del triángulo equilátero\n",
        "longitud_lado = float(input(\"Ingresa la longitud del lado del triángulo equilátero: \"))\n",
        "\n",
        "# Calcular el área y el perímetro utilizando las funciones definidas\n",
        "area = calcular_area(longitud_lado)\n",
        "perimetro = calcular_perimetro(longitud_lado)\n",
        "\n",
        "# Mostrar los resultados\n",
        "print(f\"Área del triángulo equilátero: {area}\")\n",
        "print(f\"Perímetro del triángulo equilátero: {perimetro}\")"
      ],
      "metadata": {
        "id": "S3Y__V9-JC8p"
      },
      "execution_count": null,
      "outputs": []
    },
    {
      "cell_type": "code",
      "source": [
        "\n",
        "import numpy as np\n",
        "\n",
        "# Definir función para convertir lista en matriz 4x4\n",
        "def lista_a_matriz(lista):\n",
        "    matriz = np.array(lista).reshape(4, 4)\n",
        "    return matriz\n",
        "\n",
        "# Definir función para calcular el determinante de una matriz\n",
        "def calcular_determinante(matriz):\n",
        "    return np.linalg.det(matriz)\n",
        "\n",
        "# Ingresar la lista de 16 elementos\n",
        "lista_16_elementos = [1, 2, 3, 4, 5, 6, 7, 8, 9, 10, 11, 12, 13, 14, 15, 16]\n",
        "\n",
        "# Convertir la lista en una matriz 4x4\n",
        "matriz_resultante = lista_a_matriz(lista_16_elementos)\n",
        "\n",
        "# Mostrar la matriz resultante\n",
        "print(\"Matriz resultante:\")\n",
        "print(matriz_resultante)\n",
        "\n",
        "# Calcular el determinante de la matriz\n",
        "determinante = calcular_determinante(matriz_resultante)\n",
        "\n",
        "# Mostrar el determinante calculado\n",
        "print(\"Determinante de la matriz:\")\n",
        "print(determinante)"
      ],
      "metadata": {
        "id": "Fp1LhjZGJYkA"
      },
      "execution_count": null,
      "outputs": []
    }
  ]
}