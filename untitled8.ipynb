{
  "nbformat": 4,
  "nbformat_minor": 0,
  "metadata": {
    "colab": {
      "provenance": [],
      "authorship_tag": "ABX9TyPygIAnao+/ViayU56bR+2x",
      "include_colab_link": true
    },
    "kernelspec": {
      "name": "python3",
      "display_name": "Python 3"
    },
    "language_info": {
      "name": "python"
    }
  },
  "cells": [
    {
      "cell_type": "markdown",
      "metadata": {
        "id": "view-in-github",
        "colab_type": "text"
      },
      "source": [
        "<a href=\"https://colab.research.google.com/github/edduuuu/poo/blob/main/untitled8.ipynb\" target=\"_parent\"><img src=\"https://colab.research.google.com/assets/colab-badge.svg\" alt=\"Open In Colab\"/></a>"
      ]
    },
    {
      "cell_type": "code",
      "execution_count": null,
      "metadata": {
        "id": "y_S5xSrbDcNE"
      },
      "outputs": [],
      "source": []
    },
    {
      "cell_type": "code",
      "source": [
        "import numpy as np\n",
        "# Creamos la clase madre que se llama Formulas\n",
        "class Formulas:\n",
        "    def area(self):\n",
        "      pass\n",
        "\n",
        "\n",
        "    def perimetro(self):\n",
        "      pass\n",
        "\n",
        "# Creamos la clase heredada de Formulas\n",
        "class TrianguloQ(Formulas):\n",
        "    def __init__(self, lado):\n",
        "        self.lado = lado\n",
        "\n",
        "    def area(self):\n",
        "        return (np.sqrt(3) / 4) * self.lado**2\n",
        "\n",
        "    def perimetro(self):\n",
        "        return 3 * self.lado\n",
        "\n",
        "# Ingresamos la longitud del lado del triángulo equilátero\n",
        "longitud_lado = float(input(\"Ingresa la longitud del lado del triángulo equilátero: \"))\n",
        "\n",
        "# Creamos una instancia de la clase TrianguloEquilatero\n",
        "triangulo = TrianguloQ(longitud_lado)\n",
        "\n",
        "# Calculamos el area y el perimetro utilizando la clase\n",
        "area = triangulo.area()\n",
        "perimetro = triangulo.perimetro()\n",
        "\n",
        "# Resultados dados del codigo\n",
        "print(f\"Área del triángulo equilátero: {area}\")\n",
        "print(f\"Perímetro del triángulo equilátero: {perimetro}\")\n"
      ],
      "metadata": {
        "colab": {
          "base_uri": "https://localhost:8080/"
        },
        "id": "lvXTHFAaDc4z",
        "outputId": "8f2105b9-37a3-42d4-9e3c-737b4a2a8e78"
      },
      "execution_count": null,
      "outputs": [
        {
          "output_type": "stream",
          "name": "stdout",
          "text": [
            "Ingresa la longitud del lado del triángulo equilátero: 4\n",
            "Área del triángulo equilátero: 6.928203230275509\n",
            "Perímetro del triángulo equilátero: 12.0\n"
          ]
        }
      ]
    },
    {
      "cell_type": "code",
      "source": [
        "import numpy as np\n",
        "\n",
        "class TransformadorMatriz:\n",
        "    def lista_a_matriz(self, lista):\n",
        "        matriz = np.array(lista).reshape(4, 4)\n",
        "        return matriz\n",
        "\n",
        "# Creamos la clase heredada de TransformadorMatriz\n",
        "class CalculadorDeterminante(TransformadorMatriz):\n",
        "    def calcular_determinante(self, matriz):\n",
        "        return np.linalg.det(matriz)\n",
        "\n",
        "# Ingresamos la lista de 16 elementos\n",
        "lista_16_elementos = [21, 22, 23, 24, 25, 26, 27, 28, 29, 30, 31, 32, 33, 34, 35, 36]\n",
        "\n",
        "# Creamos una instancia de la clase\n",
        "transformador = TransformadorMatriz()\n",
        "\n",
        "# Transformamos la lista en una matriz 4x4 utilizando la clase\n",
        "matriz_final = transformador.lista_a_matriz(lista_16_elementos)\n",
        "\n",
        "# Mostramos la matriz\n",
        "print(\"Matriz final:\")\n",
        "print(matriz_final)\n",
        "\n",
        "# Creamos una instancia de la clase heredada\n",
        "calculador_determinante = CalculadorDeterminante()\n",
        "\n",
        "# Calculamos el determinante\n",
        "determinante = calculador_determinante.calcular_determinante(matriz_final)\n",
        "\n",
        "# Resultado\n",
        "print(\"Determinante de la matriz:\")\n",
        "print(determinante)"
      ],
      "metadata": {
        "colab": {
          "base_uri": "https://localhost:8080/"
        },
        "id": "P9JAUqJoDnh2",
        "outputId": "e2663aff-e2aa-4a5b-e382-8fa931120b2e"
      },
      "execution_count": null,
      "outputs": [
        {
          "output_type": "stream",
          "name": "stdout",
          "text": [
            "Matriz final:\n",
            "[[21 22 23 24]\n",
            " [25 26 27 28]\n",
            " [29 30 31 32]\n",
            " [33 34 35 36]]\n",
            "Determinante de la matriz:\n",
            "0.0\n"
          ]
        }
      ]
    }
  ]
}