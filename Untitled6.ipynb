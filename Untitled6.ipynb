{
  "nbformat": 4,
  "nbformat_minor": 0,
  "metadata": {
    "colab": {
      "provenance": [],
      "authorship_tag": "ABX9TyMduFGRyK4Bnj+g4kkYxn+N",
      "include_colab_link": true
    },
    "kernelspec": {
      "name": "python3",
      "display_name": "Python 3"
    },
    "language_info": {
      "name": "python"
    }
  },
  "cells": [
    {
      "cell_type": "markdown",
      "metadata": {
        "id": "view-in-github",
        "colab_type": "text"
      },
      "source": [
        "<a href=\"https://colab.research.google.com/github/edduuuu/poo/blob/main/Untitled6.ipynb\" target=\"_parent\"><img src=\"https://colab.research.google.com/assets/colab-badge.svg\" alt=\"Open In Colab\"/></a>"
      ]
    },
    {
      "cell_type": "code",
      "execution_count": null,
      "metadata": {
        "colab": {
          "base_uri": "https://localhost:8080/"
        },
        "id": "6Zorku-spW5d",
        "outputId": "647f01f0-b523-49f5-f885-62b34d386376"
      },
      "outputs": [
        {
          "output_type": "stream",
          "name": "stdout",
          "text": [
            "Ingresa la longitud del lado del triángulo equilátero: 22\n",
            "Área del triángulo equilátero: 209.57814771583415\n",
            "Perímetro del triángulo equilátero: 66.0\n"
          ]
        }
      ],
      "source": [
        "import numpy as np\n",
        "# Creamos la clase madre\n",
        "class Formulas:\n",
        "    def area(self):\n",
        "        pass\n",
        "\n",
        "    def perimetro(self):\n",
        "        pass\n",
        "# Creamos la clase heredada para calcular el area y perímetro\n",
        "class TrianguloEquilatero(Formulas):\n",
        "    def __init__(self, lado):\n",
        "        self.lado = lado\n",
        "\n",
        "    def area(self):\n",
        "        return (np.sqrt(3) / 4) * self.lado**2\n",
        "\n",
        "    def perimetro(self):\n",
        "        return 3 * self.lado\n",
        "\n",
        "# Ingresamos la longitud del lado del triángulo equilátero\n",
        "longitud_lado = float(input(\"Ingresa la longitud del lado del triángulo equilátero: \"))\n",
        "\n",
        "# Creamos una instancia de la clase TrianguloEquilatero\n",
        "triangulo = TrianguloEquilatero(longitud_lado)\n",
        "\n",
        "# Calculamos el area y el perimetro utilizando la clase\n",
        "area = triangulo.area()\n",
        "perimetro = triangulo.perimetro()\n",
        "\n",
        "# Resultados dados del codigo\n",
        "print(f\"Área del triángulo equilátero: {area}\")\n",
        "print(f\"Perímetro del triángulo equilátero: {perimetro}\")\n",
        "\n"
      ]
    },
    {
      "cell_type": "code",
      "source": [
        "import numpy as np\n",
        "# Creamos la clase madre del codigo\n",
        "class TransformadorMatriz:\n",
        "    def lista_a_matriz(self, lista):\n",
        "        matriz = np.array(lista).reshape(4, 4)\n",
        "        return matriz\n",
        "\n",
        "# Creamos la clase heredada de TransformadorMatriz para calcular el determinante\n",
        "class CalculadorDeterminante(TransformadorMatriz):\n",
        "    def calcular_determinante(self, matriz):\n",
        "        return np.linalg.det(matriz)\n",
        "\n",
        "# Ingresamos la lista de 16 elementos\n",
        "lista_16_elementos = [20, 21, 22, 23, 24, 25, 26, 27, 28, 29, 30, 31, 32, 33, 34, 35]\n",
        "\n",
        "# Creamos una instancia de la clase que se llamara TransformadorMatriz\n",
        "transformador = TransformadorMatriz()\n",
        "\n",
        "# Transformamos la lista en una matriz 4x4 utilizando la clase\n",
        "matriz_resultante = transformador.lista_a_matriz(lista_16_elementos)\n",
        "\n",
        "# Mostramos la matriz resultante\n",
        "print(\"Matriz resultante:\")\n",
        "print(matriz_resultante)\n",
        "\n",
        "# Creamos una instancia de la clase heredada para calcular el determinante\n",
        "calculador_determinante = CalculadorDeterminante()\n",
        "\n",
        "# Calculamos el determinante utilizando la clase heredada\n",
        "determinante = calculador_determinante.calcular_determinante(matriz_resultante)\n",
        "\n",
        "# Resultado\n",
        "print(\"Determinante de la matriz:\")\n",
        "print(determinante)"
      ],
      "metadata": {
        "colab": {
          "base_uri": "https://localhost:8080/"
        },
        "id": "xyxsZN-GpcT_",
        "outputId": "211ec0a1-15e7-4d6e-c9a4-b3a8d92ee8f6"
      },
      "execution_count": null,
      "outputs": [
        {
          "output_type": "stream",
          "name": "stdout",
          "text": [
            "Matriz resultante:\n",
            "[[20 21 22 23]\n",
            " [24 25 26 27]\n",
            " [28 29 30 31]\n",
            " [32 33 34 35]]\n",
            "Determinante de la matriz:\n",
            "0.0\n"
          ]
        }
      ]
    }
  ]
}