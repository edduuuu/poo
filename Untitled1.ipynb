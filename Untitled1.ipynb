{
  "nbformat": 4,
  "nbformat_minor": 0,
  "metadata": {
    "colab": {
      "provenance": []
    },
    "kernelspec": {
      "name": "python3",
      "display_name": "Python 3"
    },
    "language_info": {
      "name": "python"
    }
  },
  "cells": [
    {
      "cell_type": "code",
      "execution_count": null,
      "metadata": {
        "colab": {
          "base_uri": "https://localhost:8080/"
        },
        "id": "l_2bpLA1iZ07",
        "outputId": "11407cf3-0872-463d-809c-baa77f5907d8"
      },
      "outputs": [
        {
          "output_type": "stream",
          "name": "stdout",
          "text": [
            "hola mundo\n"
          ]
        }
      ],
      "source": [
        "print(\"hola mundo\")"
      ]
    },
    {
      "cell_type": "code",
      "source": [
        "#crear variables\n",
        "x=3\n",
        "y= 5\n"
      ],
      "metadata": {
        "id": "ixmae58vstJ8"
      },
      "execution_count": null,
      "outputs": []
    },
    {
      "cell_type": "code",
      "source": [
        "x+y\n",
        "x-y\n",
        "x*y\n",
        "x**y\n",
        "x/y\n",
        "x//y\n",
        "x%y\n"
      ],
      "metadata": {
        "id": "3U8CmloQtBbj"
      },
      "execution_count": null,
      "outputs": []
    },
    {
      "cell_type": "code",
      "source": [
        "type(x+y)"
      ],
      "metadata": {
        "id": "JuzXH3e1w-we"
      },
      "execution_count": null,
      "outputs": []
    },
    {
      "cell_type": "code",
      "source": [
        "type(x/y)"
      ],
      "metadata": {
        "id": "iGbOLVozxCbM"
      },
      "execution_count": null,
      "outputs": []
    },
    {
      "cell_type": "markdown",
      "source": [
        "#primeros objetos\n",
        "\n",
        "1. objetos.\n",
        "2. listas.\n",
        "3. conjuntos."
      ],
      "metadata": {
        "id": "Pv0SSX8BjTmG"
      }
    },
    {
      "cell_type": "markdown",
      "source": [
        "En python se pueden realizar operaciones sobre objetos.\n",
        "Además, es útil para resolver un sistema de ecuaciones lineales.\n",
        "\n",
        "$$\n",
        "\\begin{cases}\n",
        "x+2y= 3\\\\\n",
        "2x+4y= 6\n",
        "\\end{cases}\n",
        "$$"
      ],
      "metadata": {
        "id": "oia0XK6Plcjh"
      }
    }
  ]
}