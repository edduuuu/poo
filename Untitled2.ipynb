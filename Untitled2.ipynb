{
  "nbformat": 4,
  "nbformat_minor": 0,
  "metadata": {
    "colab": {
      "provenance": [],
      "authorship_tag": "ABX9TyMZJM4weQtV0/1ImDQtnR89",
      "include_colab_link": true
    },
    "kernelspec": {
      "name": "python3",
      "display_name": "Python 3"
    },
    "language_info": {
      "name": "python"
    }
  },
  "cells": [
    {
      "cell_type": "markdown",
      "metadata": {
        "id": "view-in-github",
        "colab_type": "text"
      },
      "source": [
        "<a href=\"https://colab.research.google.com/github/edduuuu/poo/blob/main/Untitled2.ipynb\" target=\"_parent\"><img src=\"https://colab.research.google.com/assets/colab-badge.svg\" alt=\"Open In Colab\"/></a>"
      ]
    },
    {
      "cell_type": "code",
      "execution_count": null,
      "metadata": {
        "id": "C0f9if2nXzCW"
      },
      "outputs": [],
      "source": [
        "def perimetro(b,1):\n",
        "  a=(b*2)+1\n",
        "  return p"
      ]
    },
    {
      "cell_type": "code",
      "source": [
        "def es_par(numero):\n",
        "    if numero % 2 == 0:\n",
        "        return True\n",
        "    else:\n",
        "        return False\n",
        "\n",
        "# Ejemplo de uso\n",
        "numero_ingresado = int(input(\"Ingresa un número: \"))\n",
        "if es_par(numero_ingresado):\n",
        "    print(f\"{numero_ingresado} es un número par.\")\n",
        "else:\n",
        "    print(f\"{numero_ingresado} no es un número par.\")\n"
      ],
      "metadata": {
        "colab": {
          "base_uri": "https://localhost:8080/"
        },
        "id": "XvM-t92cX43S",
        "outputId": "5b0e242e-cb80-4c8a-97b2-bfd73c276ec9"
      },
      "execution_count": 1,
      "outputs": [
        {
          "output_type": "stream",
          "name": "stdout",
          "text": [
            "Ingresa un número: 5\n",
            "5 no es un número par.\n"
          ]
        }
      ]
    },
    {
      "cell_type": "code",
      "source": [
        "def es_numero_perfecto(numero):\n",
        "    suma_divisores = 0\n",
        "    for i in range(1, numero):\n",
        "        if numero % i == 0:\n",
        "            suma_divisores += i\n",
        "\n",
        "    return suma_divisores == numero\n",
        "\n",
        "# Solicitar al usuario que ingrese un número natural\n",
        "try:\n",
        "    numero_ingresado = int(input(\"Ingrese un número natural: \"))\n",
        "    if numero_ingresado <= 0:\n",
        "        raise ValueError(\"Por favor, ingrese un número natural mayor que cero.\")\n",
        "\n",
        "    if es_numero_perfecto(numero_ingresado):\n",
        "        print(f\"{numero_ingresado} es un número perfecto.\")\n",
        "    else:\n",
        "        print(f\"{numero_ingresado} no es un número perfecto.\")\n",
        "\n",
        "except ValueError as e:\n",
        "    print(f\"Error: {e}\")\n"
      ],
      "metadata": {
        "colab": {
          "base_uri": "https://localhost:8080/"
        },
        "id": "aKDwZnanlSMS",
        "outputId": "fa783a66-aedb-4acc-9dfb-d8e9afa74302"
      },
      "execution_count": 2,
      "outputs": [
        {
          "output_type": "stream",
          "name": "stdout",
          "text": [
            "Ingrese un número natural: 7\n",
            "7 no es un número perfecto.\n"
          ]
        }
      ]
    },
    {
      "cell_type": "code",
      "source": [],
      "metadata": {
        "id": "njS3U8A5bxD3"
      },
      "execution_count": null,
      "outputs": []
    }
  ]
}